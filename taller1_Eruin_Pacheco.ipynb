{
  "nbformat": 4,
  "nbformat_minor": 0,
  "metadata": {
    "colab": {
      "provenance": []
    },
    "kernelspec": {
      "name": "python3",
      "display_name": "Python 3"
    },
    "language_info": {
      "name": "python"
    }
  },
  "cells": [
    {
      "cell_type": "markdown",
      "source": [
        "# Heroes"
      ],
      "metadata": {
        "id": "1QDKCgHMQjWQ"
      }
    },
    {
      "cell_type": "code",
      "source": [
        "# libreria para análisis de datos\n",
        "import numpy as np\n",
        "import pandas as pd\n",
        "from scipy.stats import norm\n",
        "import matplotlib.pyplot as plt"
      ],
      "metadata": {
        "id": "wigqVMeI_rN0"
      },
      "execution_count": 2,
      "outputs": []
    },
    {
      "cell_type": "code",
      "source": [
        "# Archivo CSV con los datos\n",
        "origen_datos = 'https://paste.c-net.org/FiendGreer'"
      ],
      "metadata": {
        "id": "T3dGxJxZ_7lk"
      },
      "execution_count": 3,
      "outputs": []
    },
    {
      "cell_type": "code",
      "source": [
        "# Crear un dataframe con los datos, el CSV tiene separador (;)\n",
        "df = pd.read_csv(origen_datos, sep=';')"
      ],
      "metadata": {
        "id": "g8PMMIpt-dql"
      },
      "execution_count": 4,
      "outputs": []
    },
    {
      "cell_type": "code",
      "source": [
        "# ver el dataframe, las primeras 5 filas\n",
        "df.head()"
      ],
      "metadata": {
        "id": "Fb8fyD1IA1nc",
        "colab": {
          "base_uri": "https://localhost:8080/",
          "height": 348
        },
        "outputId": "26943489-ff14-43ce-a553-4d922e7f613d"
      },
      "execution_count": null,
      "outputs": [
        {
          "output_type": "execute_result",
          "data": {
            "text/plain": [
              "          Name                Identity         Birth place      Publisher  \\\n",
              "0       A-Bomb  Richard Milhouse Jones  Scarsdale, Arizona  Marvel Comics   \n",
              "1      Abraxas                 Abraxas    Within Eternity   Marvel Comics   \n",
              "2  Abomination            Emil Blonsky  Zagreb, Yugoslavia  Marvel Comics   \n",
              "3  Adam Monroe                     NaN                 NaN   NBC - Heroes   \n",
              "4     Agent 13           Sharon Carter                 NaN  Marvel Comics   \n",
              "\n",
              "   Height  Weight Gender  First appearance Eye color Hair color  Strength  \\\n",
              "0  203.21  441.95      M            2008.0    Yellow    No Hair     100.0   \n",
              "1     NaN     NaN      M               NaN      Blue      Black     100.0   \n",
              "2  203.04  441.98      M               NaN     Green    No Hair      80.0   \n",
              "3     NaN     NaN      M               NaN      Blue      Blond      10.0   \n",
              "4  173.41   61.03      F               NaN      Blue      Blond       NaN   \n",
              "\n",
              "  Intelligence  IntelligenceValue  \n",
              "0     moderate                1.0  \n",
              "1         high                4.0  \n",
              "2         good                3.0  \n",
              "3         good                3.0  \n",
              "4          NaN                NaN  "
            ],
            "text/html": [
              "\n",
              "  <div id=\"df-4be42819-2211-4782-9a27-caeeb1f4e2a2\" class=\"colab-df-container\">\n",
              "    <div>\n",
              "<style scoped>\n",
              "    .dataframe tbody tr th:only-of-type {\n",
              "        vertical-align: middle;\n",
              "    }\n",
              "\n",
              "    .dataframe tbody tr th {\n",
              "        vertical-align: top;\n",
              "    }\n",
              "\n",
              "    .dataframe thead th {\n",
              "        text-align: right;\n",
              "    }\n",
              "</style>\n",
              "<table border=\"1\" class=\"dataframe\">\n",
              "  <thead>\n",
              "    <tr style=\"text-align: right;\">\n",
              "      <th></th>\n",
              "      <th>Name</th>\n",
              "      <th>Identity</th>\n",
              "      <th>Birth place</th>\n",
              "      <th>Publisher</th>\n",
              "      <th>Height</th>\n",
              "      <th>Weight</th>\n",
              "      <th>Gender</th>\n",
              "      <th>First appearance</th>\n",
              "      <th>Eye color</th>\n",
              "      <th>Hair color</th>\n",
              "      <th>Strength</th>\n",
              "      <th>Intelligence</th>\n",
              "      <th>IntelligenceValue</th>\n",
              "    </tr>\n",
              "  </thead>\n",
              "  <tbody>\n",
              "    <tr>\n",
              "      <th>0</th>\n",
              "      <td>A-Bomb</td>\n",
              "      <td>Richard Milhouse Jones</td>\n",
              "      <td>Scarsdale, Arizona</td>\n",
              "      <td>Marvel Comics</td>\n",
              "      <td>203.21</td>\n",
              "      <td>441.95</td>\n",
              "      <td>M</td>\n",
              "      <td>2008.0</td>\n",
              "      <td>Yellow</td>\n",
              "      <td>No Hair</td>\n",
              "      <td>100.0</td>\n",
              "      <td>moderate</td>\n",
              "      <td>1.0</td>\n",
              "    </tr>\n",
              "    <tr>\n",
              "      <th>1</th>\n",
              "      <td>Abraxas</td>\n",
              "      <td>Abraxas</td>\n",
              "      <td>Within Eternity</td>\n",
              "      <td>Marvel Comics</td>\n",
              "      <td>NaN</td>\n",
              "      <td>NaN</td>\n",
              "      <td>M</td>\n",
              "      <td>NaN</td>\n",
              "      <td>Blue</td>\n",
              "      <td>Black</td>\n",
              "      <td>100.0</td>\n",
              "      <td>high</td>\n",
              "      <td>4.0</td>\n",
              "    </tr>\n",
              "    <tr>\n",
              "      <th>2</th>\n",
              "      <td>Abomination</td>\n",
              "      <td>Emil Blonsky</td>\n",
              "      <td>Zagreb, Yugoslavia</td>\n",
              "      <td>Marvel Comics</td>\n",
              "      <td>203.04</td>\n",
              "      <td>441.98</td>\n",
              "      <td>M</td>\n",
              "      <td>NaN</td>\n",
              "      <td>Green</td>\n",
              "      <td>No Hair</td>\n",
              "      <td>80.0</td>\n",
              "      <td>good</td>\n",
              "      <td>3.0</td>\n",
              "    </tr>\n",
              "    <tr>\n",
              "      <th>3</th>\n",
              "      <td>Adam Monroe</td>\n",
              "      <td>NaN</td>\n",
              "      <td>NaN</td>\n",
              "      <td>NBC - Heroes</td>\n",
              "      <td>NaN</td>\n",
              "      <td>NaN</td>\n",
              "      <td>M</td>\n",
              "      <td>NaN</td>\n",
              "      <td>Blue</td>\n",
              "      <td>Blond</td>\n",
              "      <td>10.0</td>\n",
              "      <td>good</td>\n",
              "      <td>3.0</td>\n",
              "    </tr>\n",
              "    <tr>\n",
              "      <th>4</th>\n",
              "      <td>Agent 13</td>\n",
              "      <td>Sharon Carter</td>\n",
              "      <td>NaN</td>\n",
              "      <td>Marvel Comics</td>\n",
              "      <td>173.41</td>\n",
              "      <td>61.03</td>\n",
              "      <td>F</td>\n",
              "      <td>NaN</td>\n",
              "      <td>Blue</td>\n",
              "      <td>Blond</td>\n",
              "      <td>NaN</td>\n",
              "      <td>NaN</td>\n",
              "      <td>NaN</td>\n",
              "    </tr>\n",
              "  </tbody>\n",
              "</table>\n",
              "</div>\n",
              "    <div class=\"colab-df-buttons\">\n",
              "\n",
              "  <div class=\"colab-df-container\">\n",
              "    <button class=\"colab-df-convert\" onclick=\"convertToInteractive('df-4be42819-2211-4782-9a27-caeeb1f4e2a2')\"\n",
              "            title=\"Convert this dataframe to an interactive table.\"\n",
              "            style=\"display:none;\">\n",
              "\n",
              "  <svg xmlns=\"http://www.w3.org/2000/svg\" height=\"24px\" viewBox=\"0 -960 960 960\">\n",
              "    <path d=\"M120-120v-720h720v720H120Zm60-500h600v-160H180v160Zm220 220h160v-160H400v160Zm0 220h160v-160H400v160ZM180-400h160v-160H180v160Zm440 0h160v-160H620v160ZM180-180h160v-160H180v160Zm440 0h160v-160H620v160Z\"/>\n",
              "  </svg>\n",
              "    </button>\n",
              "\n",
              "  <style>\n",
              "    .colab-df-container {\n",
              "      display:flex;\n",
              "      gap: 12px;\n",
              "    }\n",
              "\n",
              "    .colab-df-convert {\n",
              "      background-color: #E8F0FE;\n",
              "      border: none;\n",
              "      border-radius: 50%;\n",
              "      cursor: pointer;\n",
              "      display: none;\n",
              "      fill: #1967D2;\n",
              "      height: 32px;\n",
              "      padding: 0 0 0 0;\n",
              "      width: 32px;\n",
              "    }\n",
              "\n",
              "    .colab-df-convert:hover {\n",
              "      background-color: #E2EBFA;\n",
              "      box-shadow: 0px 1px 2px rgba(60, 64, 67, 0.3), 0px 1px 3px 1px rgba(60, 64, 67, 0.15);\n",
              "      fill: #174EA6;\n",
              "    }\n",
              "\n",
              "    .colab-df-buttons div {\n",
              "      margin-bottom: 4px;\n",
              "    }\n",
              "\n",
              "    [theme=dark] .colab-df-convert {\n",
              "      background-color: #3B4455;\n",
              "      fill: #D2E3FC;\n",
              "    }\n",
              "\n",
              "    [theme=dark] .colab-df-convert:hover {\n",
              "      background-color: #434B5C;\n",
              "      box-shadow: 0px 1px 3px 1px rgba(0, 0, 0, 0.15);\n",
              "      filter: drop-shadow(0px 1px 2px rgba(0, 0, 0, 0.3));\n",
              "      fill: #FFFFFF;\n",
              "    }\n",
              "  </style>\n",
              "\n",
              "    <script>\n",
              "      const buttonEl =\n",
              "        document.querySelector('#df-4be42819-2211-4782-9a27-caeeb1f4e2a2 button.colab-df-convert');\n",
              "      buttonEl.style.display =\n",
              "        google.colab.kernel.accessAllowed ? 'block' : 'none';\n",
              "\n",
              "      async function convertToInteractive(key) {\n",
              "        const element = document.querySelector('#df-4be42819-2211-4782-9a27-caeeb1f4e2a2');\n",
              "        const dataTable =\n",
              "          await google.colab.kernel.invokeFunction('convertToInteractive',\n",
              "                                                    [key], {});\n",
              "        if (!dataTable) return;\n",
              "\n",
              "        const docLinkHtml = 'Like what you see? Visit the ' +\n",
              "          '<a target=\"_blank\" href=https://colab.research.google.com/notebooks/data_table.ipynb>data table notebook</a>'\n",
              "          + ' to learn more about interactive tables.';\n",
              "        element.innerHTML = '';\n",
              "        dataTable['output_type'] = 'display_data';\n",
              "        await google.colab.output.renderOutput(dataTable, element);\n",
              "        const docLink = document.createElement('div');\n",
              "        docLink.innerHTML = docLinkHtml;\n",
              "        element.appendChild(docLink);\n",
              "      }\n",
              "    </script>\n",
              "  </div>\n",
              "\n",
              "\n",
              "<div id=\"df-c8cc97e7-b8d4-4c6c-a173-1ad9896799ab\">\n",
              "  <button class=\"colab-df-quickchart\" onclick=\"quickchart('df-c8cc97e7-b8d4-4c6c-a173-1ad9896799ab')\"\n",
              "            title=\"Suggest charts.\"\n",
              "            style=\"display:none;\">\n",
              "\n",
              "<svg xmlns=\"http://www.w3.org/2000/svg\" height=\"24px\"viewBox=\"0 0 24 24\"\n",
              "     width=\"24px\">\n",
              "    <g>\n",
              "        <path d=\"M19 3H5c-1.1 0-2 .9-2 2v14c0 1.1.9 2 2 2h14c1.1 0 2-.9 2-2V5c0-1.1-.9-2-2-2zM9 17H7v-7h2v7zm4 0h-2V7h2v10zm4 0h-2v-4h2v4z\"/>\n",
              "    </g>\n",
              "</svg>\n",
              "  </button>\n",
              "\n",
              "<style>\n",
              "  .colab-df-quickchart {\n",
              "      --bg-color: #E8F0FE;\n",
              "      --fill-color: #1967D2;\n",
              "      --hover-bg-color: #E2EBFA;\n",
              "      --hover-fill-color: #174EA6;\n",
              "      --disabled-fill-color: #AAA;\n",
              "      --disabled-bg-color: #DDD;\n",
              "  }\n",
              "\n",
              "  [theme=dark] .colab-df-quickchart {\n",
              "      --bg-color: #3B4455;\n",
              "      --fill-color: #D2E3FC;\n",
              "      --hover-bg-color: #434B5C;\n",
              "      --hover-fill-color: #FFFFFF;\n",
              "      --disabled-bg-color: #3B4455;\n",
              "      --disabled-fill-color: #666;\n",
              "  }\n",
              "\n",
              "  .colab-df-quickchart {\n",
              "    background-color: var(--bg-color);\n",
              "    border: none;\n",
              "    border-radius: 50%;\n",
              "    cursor: pointer;\n",
              "    display: none;\n",
              "    fill: var(--fill-color);\n",
              "    height: 32px;\n",
              "    padding: 0;\n",
              "    width: 32px;\n",
              "  }\n",
              "\n",
              "  .colab-df-quickchart:hover {\n",
              "    background-color: var(--hover-bg-color);\n",
              "    box-shadow: 0 1px 2px rgba(60, 64, 67, 0.3), 0 1px 3px 1px rgba(60, 64, 67, 0.15);\n",
              "    fill: var(--button-hover-fill-color);\n",
              "  }\n",
              "\n",
              "  .colab-df-quickchart-complete:disabled,\n",
              "  .colab-df-quickchart-complete:disabled:hover {\n",
              "    background-color: var(--disabled-bg-color);\n",
              "    fill: var(--disabled-fill-color);\n",
              "    box-shadow: none;\n",
              "  }\n",
              "\n",
              "  .colab-df-spinner {\n",
              "    border: 2px solid var(--fill-color);\n",
              "    border-color: transparent;\n",
              "    border-bottom-color: var(--fill-color);\n",
              "    animation:\n",
              "      spin 1s steps(1) infinite;\n",
              "  }\n",
              "\n",
              "  @keyframes spin {\n",
              "    0% {\n",
              "      border-color: transparent;\n",
              "      border-bottom-color: var(--fill-color);\n",
              "      border-left-color: var(--fill-color);\n",
              "    }\n",
              "    20% {\n",
              "      border-color: transparent;\n",
              "      border-left-color: var(--fill-color);\n",
              "      border-top-color: var(--fill-color);\n",
              "    }\n",
              "    30% {\n",
              "      border-color: transparent;\n",
              "      border-left-color: var(--fill-color);\n",
              "      border-top-color: var(--fill-color);\n",
              "      border-right-color: var(--fill-color);\n",
              "    }\n",
              "    40% {\n",
              "      border-color: transparent;\n",
              "      border-right-color: var(--fill-color);\n",
              "      border-top-color: var(--fill-color);\n",
              "    }\n",
              "    60% {\n",
              "      border-color: transparent;\n",
              "      border-right-color: var(--fill-color);\n",
              "    }\n",
              "    80% {\n",
              "      border-color: transparent;\n",
              "      border-right-color: var(--fill-color);\n",
              "      border-bottom-color: var(--fill-color);\n",
              "    }\n",
              "    90% {\n",
              "      border-color: transparent;\n",
              "      border-bottom-color: var(--fill-color);\n",
              "    }\n",
              "  }\n",
              "</style>\n",
              "\n",
              "  <script>\n",
              "    async function quickchart(key) {\n",
              "      const quickchartButtonEl =\n",
              "        document.querySelector('#' + key + ' button');\n",
              "      quickchartButtonEl.disabled = true;  // To prevent multiple clicks.\n",
              "      quickchartButtonEl.classList.add('colab-df-spinner');\n",
              "      try {\n",
              "        const charts = await google.colab.kernel.invokeFunction(\n",
              "            'suggestCharts', [key], {});\n",
              "      } catch (error) {\n",
              "        console.error('Error during call to suggestCharts:', error);\n",
              "      }\n",
              "      quickchartButtonEl.classList.remove('colab-df-spinner');\n",
              "      quickchartButtonEl.classList.add('colab-df-quickchart-complete');\n",
              "    }\n",
              "    (() => {\n",
              "      let quickchartButtonEl =\n",
              "        document.querySelector('#df-c8cc97e7-b8d4-4c6c-a173-1ad9896799ab button');\n",
              "      quickchartButtonEl.style.display =\n",
              "        google.colab.kernel.accessAllowed ? 'block' : 'none';\n",
              "    })();\n",
              "  </script>\n",
              "</div>\n",
              "    </div>\n",
              "  </div>\n"
            ]
          },
          "metadata": {},
          "execution_count": 16
        }
      ]
    },
    {
      "cell_type": "markdown",
      "source": [
        "# Obtener los metadatos"
      ],
      "metadata": {
        "id": "5hxvuGeg9sr7"
      }
    },
    {
      "cell_type": "code",
      "source": [
        "df.shape # -> (filas, columnas)"
      ],
      "metadata": {
        "id": "BXfIovTdA-j8",
        "colab": {
          "base_uri": "https://localhost:8080/"
        },
        "outputId": "9ef51279-ddfa-428f-8f29-4fcf94623f2c"
      },
      "execution_count": null,
      "outputs": [
        {
          "output_type": "execute_result",
          "data": {
            "text/plain": [
              "(735, 13)"
            ]
          },
          "metadata": {},
          "execution_count": 17
        }
      ]
    },
    {
      "cell_type": "code",
      "source": [
        "# nombre de las columnas\n",
        "df.columns"
      ],
      "metadata": {
        "id": "Dl8TGJz1B5GV",
        "colab": {
          "base_uri": "https://localhost:8080/"
        },
        "outputId": "80fa8968-58ab-4031-e452-65efe7889ea9"
      },
      "execution_count": null,
      "outputs": [
        {
          "output_type": "execute_result",
          "data": {
            "text/plain": [
              "Index(['Name', 'Identity', 'Birth place', 'Publisher', 'Height', 'Weight',\n",
              "       'Gender', 'First appearance', 'Eye color', 'Hair color', 'Strength',\n",
              "       'Intelligence', 'IntelligenceValue'],\n",
              "      dtype='object')"
            ]
          },
          "metadata": {},
          "execution_count": 18
        }
      ]
    },
    {
      "cell_type": "code",
      "source": [
        "# tipos de datos\n",
        "df.dtypes"
      ],
      "metadata": {
        "id": "RDL7TD96B9KN",
        "colab": {
          "base_uri": "https://localhost:8080/"
        },
        "outputId": "57b7ebab-de64-4b8a-a373-9f540a239eae"
      },
      "execution_count": null,
      "outputs": [
        {
          "output_type": "execute_result",
          "data": {
            "text/plain": [
              "Name                 object\n",
              "Identity             object\n",
              "Birth place          object\n",
              "Publisher            object\n",
              "Height              float64\n",
              "Weight              float64\n",
              "Gender               object\n",
              "First appearance    float64\n",
              "Eye color            object\n",
              "Hair color           object\n",
              "Strength            float64\n",
              "Intelligence         object\n",
              "dtype: object"
            ]
          },
          "metadata": {},
          "execution_count": 7
        }
      ]
    },
    {
      "cell_type": "code",
      "source": [
        "# metadatos del dataframe: columna, datos no nulos y tipo\n",
        "df.info()"
      ],
      "metadata": {
        "id": "ufWxNlP5CJME",
        "colab": {
          "base_uri": "https://localhost:8080/"
        },
        "outputId": "f20495c8-62c3-460d-cb44-4caefddbde5d"
      },
      "execution_count": null,
      "outputs": [
        {
          "output_type": "stream",
          "name": "stdout",
          "text": [
            "<class 'pandas.core.frame.DataFrame'>\n",
            "RangeIndex: 735 entries, 0 to 734\n",
            "Data columns (total 12 columns):\n",
            " #   Column            Non-Null Count  Dtype  \n",
            "---  ------            --------------  -----  \n",
            " 0   Name              735 non-null    object \n",
            " 1   Identity          632 non-null    object \n",
            " 2   Birth place       317 non-null    object \n",
            " 3   Publisher         720 non-null    object \n",
            " 4   Height            518 non-null    float64\n",
            " 5   Weight            498 non-null    float64\n",
            " 6   Gender            706 non-null    object \n",
            " 7   First appearance  367 non-null    float64\n",
            " 8   Eye color         563 non-null    object \n",
            " 9   Hair color        563 non-null    object \n",
            " 10  Strength          609 non-null    float64\n",
            " 11  Intelligence      609 non-null    object \n",
            "dtypes: float64(4), object(8)\n",
            "memory usage: 69.0+ KB\n"
          ]
        }
      ]
    },
    {
      "cell_type": "code",
      "source": [
        "# cuántos datos nulos (faltantes) hay en cada columna\n",
        "df.isnull().sum()"
      ],
      "metadata": {
        "id": "IcS-NTvsQ7YI",
        "colab": {
          "base_uri": "https://localhost:8080/"
        },
        "outputId": "4e6c10af-2d93-466b-80fd-5b7f545bbaae"
      },
      "execution_count": null,
      "outputs": [
        {
          "output_type": "execute_result",
          "data": {
            "text/plain": [
              "Name                  0\n",
              "Identity            103\n",
              "Birth place         418\n",
              "Publisher            15\n",
              "Height              217\n",
              "Weight              237\n",
              "Gender               29\n",
              "First appearance    368\n",
              "Eye color           172\n",
              "Hair color          172\n",
              "Strength            126\n",
              "Intelligence        126\n",
              "dtype: int64"
            ]
          },
          "metadata": {},
          "execution_count": 9
        }
      ]
    },
    {
      "cell_type": "code",
      "source": [
        "# cuáles son los valores únicos en el Género\n",
        "df.Gender.unique()"
      ],
      "metadata": {
        "id": "zI4xpy6KDVSV",
        "colab": {
          "base_uri": "https://localhost:8080/"
        },
        "outputId": "4ff469ad-1035-4202-b50e-39a378f73ac0"
      },
      "execution_count": null,
      "outputs": [
        {
          "output_type": "execute_result",
          "data": {
            "text/plain": [
              "array(['M', 'F', nan], dtype=object)"
            ]
          },
          "metadata": {},
          "execution_count": 10
        }
      ]
    },
    {
      "cell_type": "code",
      "source": [
        "# lista de columnas categoricas\n",
        "categoricas = ['Publisher', 'Gender', 'Eye color', 'Hair color', 'Intelligence']\n",
        "numericas = ['Height', 'Weight', 'Strength']"
      ],
      "metadata": {
        "id": "Fke7oKjwrBM7"
      },
      "execution_count": null,
      "outputs": []
    },
    {
      "cell_type": "code",
      "source": [
        "# Valores únicos en cada columna\n",
        "for col in categoricas:\n",
        "    print(f\"{col}: {df[col].unique()}\")"
      ],
      "metadata": {
        "id": "mqIyMexUDfKE",
        "colab": {
          "base_uri": "https://localhost:8080/"
        },
        "outputId": "021ee151-71ae-4a42-c486-98ebfba47e4b"
      },
      "execution_count": null,
      "outputs": [
        {
          "output_type": "stream",
          "name": "stdout",
          "text": [
            "Publisher: ['Marvel Comics' 'NBC - Heroes' 'Dark Horse Comics' 'DC Comics'\n",
            " 'Image Comics' 'HarperCollins' 'George Lucas' 'Shueisha' 'Team Epic TV'\n",
            " nan 'ABC Studios' 'Star Trek' 'J. R. R. Tolkien' 'Icon Comics' 'SyFy'\n",
            " 'IDW Publishing' 'Sony Pictures' 'Wildstorm' 'Microsoft' 'Rebellion'\n",
            " 'Titan Books' 'J. K. Rowling' 'Universal Studios' 'South Park'\n",
            " 'Hanna-Barbera']\n",
            "Gender: ['M' 'F' nan]\n",
            "Eye color: ['Yellow' 'Blue' 'Green' 'Brown' nan 'Grey' 'Red' 'White' 'Black' 'Gold'\n",
            " 'Violet' 'Amber' 'Hazel' 'Purple' 'brown' 'Bown' 'Yellow / Blue' 'Indigo'\n",
            " 'blue' 'Yellow (without irises)' 'White / Red' 'Green / Blue'\n",
            " 'Blue / White' 'Yellow / Red' 'Silver']\n",
            "Hair color: ['No Hair' 'Black' 'Blond' 'White' 'Brown' nan 'Strawberry Blond' 'Auburn'\n",
            " 'Silver' 'Red' 'Black / Blue' 'black' 'Red / White' 'Purple' 'Orange'\n",
            " 'Brown / White' 'Green' 'Grey' 'blond' 'Indigo' 'Red / Orange' 'Gold'\n",
            " 'Brownn' 'Yellow' 'Blue' 'Orange / White' 'Red / Grey' 'Brown / Black'\n",
            " 'Magenta' 'Pink']\n",
            "Intelligence: ['moderate' 'high' 'good' nan 'average' 'low']\n"
          ]
        }
      ]
    },
    {
      "cell_type": "code",
      "source": [
        "# resumen estadístico, variables numéricas\n",
        "df[numericas].describe()"
      ],
      "metadata": {
        "id": "S3AScnssEAFV",
        "colab": {
          "base_uri": "https://localhost:8080/",
          "height": 300
        },
        "outputId": "23a251db-c840-4e3d-93fa-abc61e09ceba"
      },
      "execution_count": null,
      "outputs": [
        {
          "output_type": "execute_result",
          "data": {
            "text/plain": [
              "           Height      Weight    Strength\n",
              "count  518.000000  498.000000  609.000000\n",
              "mean   187.235077  112.447671   45.008210\n",
              "std     59.185250  103.964283   33.031458\n",
              "min     15.340000    2.340000    5.000000\n",
              "25%    173.935000   61.827500   10.000000\n",
              "50%    183.235000   81.750000   35.000000\n",
              "75%    190.495000  107.767500   80.000000\n",
              "max    975.370000  900.700000  100.000000"
            ],
            "text/html": [
              "\n",
              "  <div id=\"df-4ed5f1c0-5751-40ca-9a4f-7bbdd6e01162\" class=\"colab-df-container\">\n",
              "    <div>\n",
              "<style scoped>\n",
              "    .dataframe tbody tr th:only-of-type {\n",
              "        vertical-align: middle;\n",
              "    }\n",
              "\n",
              "    .dataframe tbody tr th {\n",
              "        vertical-align: top;\n",
              "    }\n",
              "\n",
              "    .dataframe thead th {\n",
              "        text-align: right;\n",
              "    }\n",
              "</style>\n",
              "<table border=\"1\" class=\"dataframe\">\n",
              "  <thead>\n",
              "    <tr style=\"text-align: right;\">\n",
              "      <th></th>\n",
              "      <th>Height</th>\n",
              "      <th>Weight</th>\n",
              "      <th>Strength</th>\n",
              "    </tr>\n",
              "  </thead>\n",
              "  <tbody>\n",
              "    <tr>\n",
              "      <th>count</th>\n",
              "      <td>518.000000</td>\n",
              "      <td>498.000000</td>\n",
              "      <td>609.000000</td>\n",
              "    </tr>\n",
              "    <tr>\n",
              "      <th>mean</th>\n",
              "      <td>187.235077</td>\n",
              "      <td>112.447671</td>\n",
              "      <td>45.008210</td>\n",
              "    </tr>\n",
              "    <tr>\n",
              "      <th>std</th>\n",
              "      <td>59.185250</td>\n",
              "      <td>103.964283</td>\n",
              "      <td>33.031458</td>\n",
              "    </tr>\n",
              "    <tr>\n",
              "      <th>min</th>\n",
              "      <td>15.340000</td>\n",
              "      <td>2.340000</td>\n",
              "      <td>5.000000</td>\n",
              "    </tr>\n",
              "    <tr>\n",
              "      <th>25%</th>\n",
              "      <td>173.935000</td>\n",
              "      <td>61.827500</td>\n",
              "      <td>10.000000</td>\n",
              "    </tr>\n",
              "    <tr>\n",
              "      <th>50%</th>\n",
              "      <td>183.235000</td>\n",
              "      <td>81.750000</td>\n",
              "      <td>35.000000</td>\n",
              "    </tr>\n",
              "    <tr>\n",
              "      <th>75%</th>\n",
              "      <td>190.495000</td>\n",
              "      <td>107.767500</td>\n",
              "      <td>80.000000</td>\n",
              "    </tr>\n",
              "    <tr>\n",
              "      <th>max</th>\n",
              "      <td>975.370000</td>\n",
              "      <td>900.700000</td>\n",
              "      <td>100.000000</td>\n",
              "    </tr>\n",
              "  </tbody>\n",
              "</table>\n",
              "</div>\n",
              "    <div class=\"colab-df-buttons\">\n",
              "\n",
              "  <div class=\"colab-df-container\">\n",
              "    <button class=\"colab-df-convert\" onclick=\"convertToInteractive('df-4ed5f1c0-5751-40ca-9a4f-7bbdd6e01162')\"\n",
              "            title=\"Convert this dataframe to an interactive table.\"\n",
              "            style=\"display:none;\">\n",
              "\n",
              "  <svg xmlns=\"http://www.w3.org/2000/svg\" height=\"24px\" viewBox=\"0 -960 960 960\">\n",
              "    <path d=\"M120-120v-720h720v720H120Zm60-500h600v-160H180v160Zm220 220h160v-160H400v160Zm0 220h160v-160H400v160ZM180-400h160v-160H180v160Zm440 0h160v-160H620v160ZM180-180h160v-160H180v160Zm440 0h160v-160H620v160Z\"/>\n",
              "  </svg>\n",
              "    </button>\n",
              "\n",
              "  <style>\n",
              "    .colab-df-container {\n",
              "      display:flex;\n",
              "      gap: 12px;\n",
              "    }\n",
              "\n",
              "    .colab-df-convert {\n",
              "      background-color: #E8F0FE;\n",
              "      border: none;\n",
              "      border-radius: 50%;\n",
              "      cursor: pointer;\n",
              "      display: none;\n",
              "      fill: #1967D2;\n",
              "      height: 32px;\n",
              "      padding: 0 0 0 0;\n",
              "      width: 32px;\n",
              "    }\n",
              "\n",
              "    .colab-df-convert:hover {\n",
              "      background-color: #E2EBFA;\n",
              "      box-shadow: 0px 1px 2px rgba(60, 64, 67, 0.3), 0px 1px 3px 1px rgba(60, 64, 67, 0.15);\n",
              "      fill: #174EA6;\n",
              "    }\n",
              "\n",
              "    .colab-df-buttons div {\n",
              "      margin-bottom: 4px;\n",
              "    }\n",
              "\n",
              "    [theme=dark] .colab-df-convert {\n",
              "      background-color: #3B4455;\n",
              "      fill: #D2E3FC;\n",
              "    }\n",
              "\n",
              "    [theme=dark] .colab-df-convert:hover {\n",
              "      background-color: #434B5C;\n",
              "      box-shadow: 0px 1px 3px 1px rgba(0, 0, 0, 0.15);\n",
              "      filter: drop-shadow(0px 1px 2px rgba(0, 0, 0, 0.3));\n",
              "      fill: #FFFFFF;\n",
              "    }\n",
              "  </style>\n",
              "\n",
              "    <script>\n",
              "      const buttonEl =\n",
              "        document.querySelector('#df-4ed5f1c0-5751-40ca-9a4f-7bbdd6e01162 button.colab-df-convert');\n",
              "      buttonEl.style.display =\n",
              "        google.colab.kernel.accessAllowed ? 'block' : 'none';\n",
              "\n",
              "      async function convertToInteractive(key) {\n",
              "        const element = document.querySelector('#df-4ed5f1c0-5751-40ca-9a4f-7bbdd6e01162');\n",
              "        const dataTable =\n",
              "          await google.colab.kernel.invokeFunction('convertToInteractive',\n",
              "                                                    [key], {});\n",
              "        if (!dataTable) return;\n",
              "\n",
              "        const docLinkHtml = 'Like what you see? Visit the ' +\n",
              "          '<a target=\"_blank\" href=https://colab.research.google.com/notebooks/data_table.ipynb>data table notebook</a>'\n",
              "          + ' to learn more about interactive tables.';\n",
              "        element.innerHTML = '';\n",
              "        dataTable['output_type'] = 'display_data';\n",
              "        await google.colab.output.renderOutput(dataTable, element);\n",
              "        const docLink = document.createElement('div');\n",
              "        docLink.innerHTML = docLinkHtml;\n",
              "        element.appendChild(docLink);\n",
              "      }\n",
              "    </script>\n",
              "  </div>\n",
              "\n",
              "\n",
              "<div id=\"df-487e1f6d-cb7b-4e1a-98d6-7c2dcf9a2a49\">\n",
              "  <button class=\"colab-df-quickchart\" onclick=\"quickchart('df-487e1f6d-cb7b-4e1a-98d6-7c2dcf9a2a49')\"\n",
              "            title=\"Suggest charts.\"\n",
              "            style=\"display:none;\">\n",
              "\n",
              "<svg xmlns=\"http://www.w3.org/2000/svg\" height=\"24px\"viewBox=\"0 0 24 24\"\n",
              "     width=\"24px\">\n",
              "    <g>\n",
              "        <path d=\"M19 3H5c-1.1 0-2 .9-2 2v14c0 1.1.9 2 2 2h14c1.1 0 2-.9 2-2V5c0-1.1-.9-2-2-2zM9 17H7v-7h2v7zm4 0h-2V7h2v10zm4 0h-2v-4h2v4z\"/>\n",
              "    </g>\n",
              "</svg>\n",
              "  </button>\n",
              "\n",
              "<style>\n",
              "  .colab-df-quickchart {\n",
              "      --bg-color: #E8F0FE;\n",
              "      --fill-color: #1967D2;\n",
              "      --hover-bg-color: #E2EBFA;\n",
              "      --hover-fill-color: #174EA6;\n",
              "      --disabled-fill-color: #AAA;\n",
              "      --disabled-bg-color: #DDD;\n",
              "  }\n",
              "\n",
              "  [theme=dark] .colab-df-quickchart {\n",
              "      --bg-color: #3B4455;\n",
              "      --fill-color: #D2E3FC;\n",
              "      --hover-bg-color: #434B5C;\n",
              "      --hover-fill-color: #FFFFFF;\n",
              "      --disabled-bg-color: #3B4455;\n",
              "      --disabled-fill-color: #666;\n",
              "  }\n",
              "\n",
              "  .colab-df-quickchart {\n",
              "    background-color: var(--bg-color);\n",
              "    border: none;\n",
              "    border-radius: 50%;\n",
              "    cursor: pointer;\n",
              "    display: none;\n",
              "    fill: var(--fill-color);\n",
              "    height: 32px;\n",
              "    padding: 0;\n",
              "    width: 32px;\n",
              "  }\n",
              "\n",
              "  .colab-df-quickchart:hover {\n",
              "    background-color: var(--hover-bg-color);\n",
              "    box-shadow: 0 1px 2px rgba(60, 64, 67, 0.3), 0 1px 3px 1px rgba(60, 64, 67, 0.15);\n",
              "    fill: var(--button-hover-fill-color);\n",
              "  }\n",
              "\n",
              "  .colab-df-quickchart-complete:disabled,\n",
              "  .colab-df-quickchart-complete:disabled:hover {\n",
              "    background-color: var(--disabled-bg-color);\n",
              "    fill: var(--disabled-fill-color);\n",
              "    box-shadow: none;\n",
              "  }\n",
              "\n",
              "  .colab-df-spinner {\n",
              "    border: 2px solid var(--fill-color);\n",
              "    border-color: transparent;\n",
              "    border-bottom-color: var(--fill-color);\n",
              "    animation:\n",
              "      spin 1s steps(1) infinite;\n",
              "  }\n",
              "\n",
              "  @keyframes spin {\n",
              "    0% {\n",
              "      border-color: transparent;\n",
              "      border-bottom-color: var(--fill-color);\n",
              "      border-left-color: var(--fill-color);\n",
              "    }\n",
              "    20% {\n",
              "      border-color: transparent;\n",
              "      border-left-color: var(--fill-color);\n",
              "      border-top-color: var(--fill-color);\n",
              "    }\n",
              "    30% {\n",
              "      border-color: transparent;\n",
              "      border-left-color: var(--fill-color);\n",
              "      border-top-color: var(--fill-color);\n",
              "      border-right-color: var(--fill-color);\n",
              "    }\n",
              "    40% {\n",
              "      border-color: transparent;\n",
              "      border-right-color: var(--fill-color);\n",
              "      border-top-color: var(--fill-color);\n",
              "    }\n",
              "    60% {\n",
              "      border-color: transparent;\n",
              "      border-right-color: var(--fill-color);\n",
              "    }\n",
              "    80% {\n",
              "      border-color: transparent;\n",
              "      border-right-color: var(--fill-color);\n",
              "      border-bottom-color: var(--fill-color);\n",
              "    }\n",
              "    90% {\n",
              "      border-color: transparent;\n",
              "      border-bottom-color: var(--fill-color);\n",
              "    }\n",
              "  }\n",
              "</style>\n",
              "\n",
              "  <script>\n",
              "    async function quickchart(key) {\n",
              "      const quickchartButtonEl =\n",
              "        document.querySelector('#' + key + ' button');\n",
              "      quickchartButtonEl.disabled = true;  // To prevent multiple clicks.\n",
              "      quickchartButtonEl.classList.add('colab-df-spinner');\n",
              "      try {\n",
              "        const charts = await google.colab.kernel.invokeFunction(\n",
              "            'suggestCharts', [key], {});\n",
              "      } catch (error) {\n",
              "        console.error('Error during call to suggestCharts:', error);\n",
              "      }\n",
              "      quickchartButtonEl.classList.remove('colab-df-spinner');\n",
              "      quickchartButtonEl.classList.add('colab-df-quickchart-complete');\n",
              "    }\n",
              "    (() => {\n",
              "      let quickchartButtonEl =\n",
              "        document.querySelector('#df-487e1f6d-cb7b-4e1a-98d6-7c2dcf9a2a49 button');\n",
              "      quickchartButtonEl.style.display =\n",
              "        google.colab.kernel.accessAllowed ? 'block' : 'none';\n",
              "    })();\n",
              "  </script>\n",
              "</div>\n",
              "    </div>\n",
              "  </div>\n"
            ]
          },
          "metadata": {},
          "execution_count": 13
        }
      ]
    },
    {
      "cell_type": "markdown",
      "source": [
        "Adicionemos una nueva columna con el `IMC` (Indice de Masa Corporal) de cada heroe:\n",
        "\n",
        "$$ ICM = \\frac {peso (kg)}{ altura^2 (m)} $$\n",
        "\n",
        "Nota: la columna altura está en centímetros, el IMC utiliza metros."
      ],
      "metadata": {
        "id": "smkc25aCUDhi"
      }
    },
    {
      "cell_type": "code",
      "source": [
        "# Adicionar la columna 'IMC'\n"
      ],
      "metadata": {
        "id": "_210o4XyUQxl"
      },
      "execution_count": null,
      "outputs": []
    },
    {
      "cell_type": "markdown",
      "source": [
        "# Gráficas de uso común"
      ],
      "metadata": {
        "id": "Ybgb41dy08C4"
      }
    },
    {
      "cell_type": "code",
      "source": [
        "# Histograma, como están distribuidos los datos\n",
        "df[['Weight']].hist(bins=50)"
      ],
      "metadata": {
        "id": "HynbqfIgrXcx",
        "colab": {
          "base_uri": "https://localhost:8080/",
          "height": 470
        },
        "outputId": "d7e7d71e-b271-44ae-de81-a39aaa4acdb5"
      },
      "execution_count": null,
      "outputs": [
        {
          "output_type": "execute_result",
          "data": {
            "text/plain": [
              "array([[<Axes: title={'center': 'Weight'}>]], dtype=object)"
            ]
          },
          "metadata": {},
          "execution_count": 36
        },
        {
          "output_type": "display_data",
          "data": {
            "text/plain": [
              "<Figure size 640x480 with 1 Axes>"
            ],
            "image/png": "[encoded data removed]"
          },
          "metadata": {}
        }
      ]
    },
    {
      "cell_type": "code",
      "source": [
        "# Boxplot, muestra la mediana, mínimo, máximo y cuartiles\n",
        "df[['Strength']].boxplot()"
      ],
      "metadata": {
        "id": "xh5wJaq0sxDG"
      },
      "execution_count": null,
      "outputs": []
    },
    {
      "cell_type": "code",
      "source": [
        "# resumen estadístico, variables categóricas\n",
        "df[categoricas].describe()"
      ],
      "metadata": {
        "id": "PV4C9IZ2I3g_"
      },
      "execution_count": null,
      "outputs": []
    },
    {
      "cell_type": "code",
      "source": [
        "# Histograma, para variables categóricas\n",
        "df['Intelligence'].hist()"
      ],
      "metadata": {
        "id": "GuemrGVC7PD4"
      },
      "execution_count": null,
      "outputs": []
    },
    {
      "cell_type": "markdown",
      "source": [
        "# Cómo se distribuyen las editoriales?\n"
      ],
      "metadata": {
        "id": "sZsh2iqoSqVI"
      }
    },
    {
      "cell_type": "code",
      "source": [
        "# Agrupar por editorial y contar\n",
        "df_pub = df.groupby(['Publisher'])['Publisher'].count()\n",
        "df_pub"
      ],
      "metadata": {
        "id": "wayPrv5vJciA"
      },
      "execution_count": null,
      "outputs": []
    },
    {
      "cell_type": "code",
      "source": [
        "# método plot.pie() del dataframe\n",
        "df_pub.plot.pie()"
      ],
      "metadata": {
        "id": "QEOeFImuLph3"
      },
      "execution_count": null,
      "outputs": []
    },
    {
      "cell_type": "code",
      "source": [
        "# pie() de Matplotlib\n",
        "plt.pie(df_pub, labels=df_pub.index);"
      ],
      "metadata": {
        "id": "rDl17cgGLqR4"
      },
      "execution_count": null,
      "outputs": []
    },
    {
      "cell_type": "markdown",
      "source": [
        "Los gráficos no son muy útiles, hay dos grupos muy grandes y muchos muy pequeños. Es mejor agrupar todos los pequeños en un solo."
      ],
      "metadata": {
        "id": "TGroYcQI2HmU"
      }
    },
    {
      "cell_type": "code",
      "source": [
        "# vamos a agrupar los que tienen menos de 100 en 'Otros'\n",
        "grupo_otros = df_pub[ df_pub < 100 ]\n",
        "# guardamos la suma como el valor de los agrupados\n",
        "valor_otros = grupo_otros.sum()"
      ],
      "metadata": {
        "id": "Zjnj3_kTMmEA"
      },
      "execution_count": null,
      "outputs": []
    },
    {
      "cell_type": "code",
      "source": [
        "# borramos las filas del grupo 'Otros'\n",
        "df_pub.drop(index=grupo_otros.index, inplace=True)\n",
        "df_pub"
      ],
      "metadata": {
        "id": "HXUqsMrxLLF-"
      },
      "execution_count": null,
      "outputs": []
    },
    {
      "cell_type": "code",
      "source": [
        "# creamos la nueva fila: Otros con valor_otros\n",
        "otros = pd.Series([valor_otros], index=['Otros'])\n",
        "otros"
      ],
      "metadata": {
        "id": "RS2hpl1gPaig"
      },
      "execution_count": null,
      "outputs": []
    },
    {
      "cell_type": "code",
      "source": [
        "# agregamos el grupo Otros a los datos que quedaron (Marvel y DC)\n",
        "df_pub = pd.concat([df_pub, otros])\n",
        "df_pub"
      ],
      "metadata": {
        "id": "tnTyT9hnNg8Q"
      },
      "execution_count": null,
      "outputs": []
    },
    {
      "cell_type": "code",
      "source": [
        "df_pub.plot.pie()"
      ],
      "metadata": {
        "id": "J_LXyLy__ETR"
      },
      "execution_count": null,
      "outputs": []
    },
    {
      "cell_type": "code",
      "source": [
        "plt.pie(df_pub, labels=df_pub.index);"
      ],
      "metadata": {
        "id": "pmQw6R1ESiOg"
      },
      "execution_count": null,
      "outputs": []
    },
    {
      "cell_type": "markdown",
      "source": [
        "# Cómo es la Fuerza con respecto al Género"
      ],
      "metadata": {
        "id": "ZS4bgjJA6E79"
      }
    },
    {
      "cell_type": "code",
      "source": [
        "# Cómo es la Fuerza con respecto al Género\n",
        "df[ ['Gender', 'Strength'] ].boxplot(by='Gender')"
      ],
      "metadata": {
        "id": "T0QH7KDE7CUp"
      },
      "execution_count": null,
      "outputs": []
    },
    {
      "cell_type": "markdown",
      "source": [
        "# Cómo es la Inteligencia con respecto al Género?"
      ],
      "metadata": {
        "id": "zCMI6lVa-C5K"
      }
    },
    {
      "cell_type": "code",
      "source": [
        "# Agrupar Inteligencia por género, y contar\n",
        "# renombrar la nueva columna a 'Cantidad', si no, se llamaría 'Gender' también y habría 2 con el mismo nombre\n",
        "# convertir en un dataframe, y resetear los indices\n",
        "df_int = df.groupby(['Gender', 'Intelligence'])['Gender'].count().rename('Cantidad').to_frame().reset_index()\n",
        "df_int"
      ],
      "metadata": {
        "id": "KCPoJDNQ-H5U"
      },
      "execution_count": null,
      "outputs": []
    },
    {
      "cell_type": "markdown",
      "source": [
        "# Cuáles son los 10 heroes más fuertes?"
      ],
      "metadata": {
        "id": "jzLAUsVBTRQk"
      }
    },
    {
      "cell_type": "code",
      "source": [
        "FUERZA = df.nlargest(10, 'Strength')[['Name', 'Strength']]\n",
        "print(FUERZA)"
      ],
      "metadata": {
        "id": "64eK1OFATVKK",
        "colab": {
          "base_uri": "https://localhost:8080/"
        },
        "outputId": "fda82744-e470-4545-9500-b7ff1cd032bd"
      },
      "execution_count": 5,
      "outputs": [
        {
          "output_type": "stream",
          "name": "stdout",
          "text": [
            "             Name  Strength\n",
            "0          A-Bomb     100.0\n",
            "1         Abraxas     100.0\n",
            "9          Angela     100.0\n",
            "28   Wonder Woman     100.0\n",
            "30           Ymir     100.0\n",
            "39     Wonder Man     100.0\n",
            "60         Vegeta     100.0\n",
            "71         Trigon     100.0\n",
            "90         Thanos     100.0\n",
            "101          Thor     100.0\n"
          ]
        }
      ]
    },
    {
      "cell_type": "markdown",
      "source": [
        "# Cuáles son los 10 heroes (hombres) más débiles en 'DC Comics'?"
      ],
      "metadata": {
        "id": "mla-SucrXddz"
      }
    },
    {
      "cell_type": "code",
      "source": [
        "\n",
        "DEBILES = df[(df['Gender'] == 'M') & (df['Publisher'] == 'DC Comics')].nsmallest(10, 'Strength')[['Name', 'Strength']]\n",
        "print(DEBILES)"
      ],
      "metadata": {
        "id": "sNjp32FMXlH4",
        "colab": {
          "base_uri": "https://localhost:8080/"
        },
        "outputId": "e11b2512-2773-4127-9c63-57d9773ae801"
      },
      "execution_count": 8,
      "outputs": [
        {
          "output_type": "stream",
          "name": "stdout",
          "text": [
            "             Name  Strength\n",
            "367     Kid Flash       5.0\n",
            "15           Zoom      10.0\n",
            "26   Adam Strange      10.0\n",
            "45           Warp      10.0\n",
            "69       Two-Face      10.0\n",
            "79           Vibe      10.0\n",
            "118        Static      10.0\n",
            "177     Scarecrow      10.0\n",
            "180     Rorschach      10.0\n",
            "184       Robin V      10.0\n"
          ]
        }
      ]
    },
    {
      "cell_type": "markdown",
      "source": [
        "# Cuáles son los 10 heroes más inteligentes?"
      ],
      "metadata": {
        "id": "ejbut7NQTVYz"
      }
    },
    {
      "cell_type": "code",
      "source": [
        "\n",
        "heroes_inteligentes = df[df['Intelligence'] == 'high'][['Name', 'Intelligence']]\n",
        "\n",
        "heroes_inteligentes = heroes_inteligentes.sort_values(by='Intelligence', ascending=False).head(10)\n",
        "print(heroes_inteligentes)"
      ],
      "metadata": {
        "colab": {
          "base_uri": "https://localhost:8080/"
        },
        "id": "py2xdBXZXjel",
        "outputId": "293865f5-abe5-4708-d536-e12aa125e1d9"
      },
      "execution_count": null,
      "outputs": [
        {
          "output_type": "stream",
          "name": "stdout",
          "text": [
            "                Name Intelligence\n",
            "1            Abraxas         high\n",
            "7         Abe Sapien         high\n",
            "455  Granny Goodness         high\n",
            "461     Green Goblin         high\n",
            "466          Giganta         high\n",
            "472      Green Arrow         high\n",
            "474      General Zod         high\n",
            "480         Galactus         high\n",
            "487         Flash II         high\n",
            "488     Flash Gordon         high\n"
          ]
        }
      ]
    },
    {
      "cell_type": "markdown",
      "source": [
        "# Cuáles son los 10 heroinas más inteligentes en 'Marvel Comics'?\n"
      ],
      "metadata": {
        "id": "o-QE3bKmXG8J"
      }
    },
    {
      "cell_type": "code",
      "source": [
        "heroinas_inteligentes_high = df[(df['Publisher'] == 'Marvel Comics') & (df['Gender'] == 'F') & (df['Intelligence'] == 'high')].head(10)\n",
        "\n",
        "table_heroinas_inteligentes_high = heroinas_inteligentes_high[['Name', 'Intelligence']].reset_index(drop=True)\n",
        "table_heroinas_inteligentes_high.index += 1\n",
        "table_heroinas_inteligentes_high.columns = ['Nombre', 'Inteligencia']\n",
        "table_heroinas_inteligentes_high"
      ],
      "metadata": {
        "colab": {
          "base_uri": "https://localhost:8080/",
          "height": 363
        },
        "id": "7ySN26zQg_Wj",
        "outputId": "452a9864-ac48-40bb-d74e-15832ab90a0a"
      },
      "execution_count": null,
      "outputs": [
        {
          "output_type": "execute_result",
          "data": {
            "text/plain": [
              "             Nombre Inteligencia\n",
              "1          Valkyrie         high\n",
              "2         Shadowcat         high\n",
              "3     Scarlet Witch         high\n",
              "4          She-Hulk         high\n",
              "5           Phoenix         high\n",
              "6     Lady Bullseye         high\n",
              "7         Jean Grey         high\n",
              "8   Invisible Woman         high\n",
              "9               Cat         high\n",
              "10   Captain Marvel         high"
            ],
            "text/html": [
              "\n",
              "  <div id=\"df-c86a3112-02ac-432f-a0d0-62ab2d79308b\" class=\"colab-df-container\">\n",
              "    <div>\n",
              "<style scoped>\n",
              "    .dataframe tbody tr th:only-of-type {\n",
              "        vertical-align: middle;\n",
              "    }\n",
              "\n",
              "    .dataframe tbody tr th {\n",
              "        vertical-align: top;\n",
              "    }\n",
              "\n",
              "    .dataframe thead th {\n",
              "        text-align: right;\n",
              "    }\n",
              "</style>\n",
              "<table border=\"1\" class=\"dataframe\">\n",
              "  <thead>\n",
              "    <tr style=\"text-align: right;\">\n",
              "      <th></th>\n",
              "      <th>Nombre</th>\n",
              "      <th>Inteligencia</th>\n",
              "    </tr>\n",
              "  </thead>\n",
              "  <tbody>\n",
              "    <tr>\n",
              "      <th>1</th>\n",
              "      <td>Valkyrie</td>\n",
              "      <td>high</td>\n",
              "    </tr>\n",
              "    <tr>\n",
              "      <th>2</th>\n",
              "      <td>Shadowcat</td>\n",
              "      <td>high</td>\n",
              "    </tr>\n",
              "    <tr>\n",
              "      <th>3</th>\n",
              "      <td>Scarlet Witch</td>\n",
              "      <td>high</td>\n",
              "    </tr>\n",
              "    <tr>\n",
              "      <th>4</th>\n",
              "      <td>She-Hulk</td>\n",
              "      <td>high</td>\n",
              "    </tr>\n",
              "    <tr>\n",
              "      <th>5</th>\n",
              "      <td>Phoenix</td>\n",
              "      <td>high</td>\n",
              "    </tr>\n",
              "    <tr>\n",
              "      <th>6</th>\n",
              "      <td>Lady Bullseye</td>\n",
              "      <td>high</td>\n",
              "    </tr>\n",
              "    <tr>\n",
              "      <th>7</th>\n",
              "      <td>Jean Grey</td>\n",
              "      <td>high</td>\n",
              "    </tr>\n",
              "    <tr>\n",
              "      <th>8</th>\n",
              "      <td>Invisible Woman</td>\n",
              "      <td>high</td>\n",
              "    </tr>\n",
              "    <tr>\n",
              "      <th>9</th>\n",
              "      <td>Cat</td>\n",
              "      <td>high</td>\n",
              "    </tr>\n",
              "    <tr>\n",
              "      <th>10</th>\n",
              "      <td>Captain Marvel</td>\n",
              "      <td>high</td>\n",
              "    </tr>\n",
              "  </tbody>\n",
              "</table>\n",
              "</div>\n",
              "    <div class=\"colab-df-buttons\">\n",
              "\n",
              "  <div class=\"colab-df-container\">\n",
              "    <button class=\"colab-df-convert\" onclick=\"convertToInteractive('df-c86a3112-02ac-432f-a0d0-62ab2d79308b')\"\n",
              "            title=\"Convert this dataframe to an interactive table.\"\n",
              "            style=\"display:none;\">\n",
              "\n",
              "  <svg xmlns=\"http://www.w3.org/2000/svg\" height=\"24px\" viewBox=\"0 -960 960 960\">\n",
              "    <path d=\"M120-120v-720h720v720H120Zm60-500h600v-160H180v160Zm220 220h160v-160H400v160Zm0 220h160v-160H400v160ZM180-400h160v-160H180v160Zm440 0h160v-160H620v160ZM180-180h160v-160H180v160Zm440 0h160v-160H620v160Z\"/>\n",
              "  </svg>\n",
              "    </button>\n",
              "\n",
              "  <style>\n",
              "    .colab-df-container {\n",
              "      display:flex;\n",
              "      gap: 12px;\n",
              "    }\n",
              "\n",
              "    .colab-df-convert {\n",
              "      background-color: #E8F0FE;\n",
              "      border: none;\n",
              "      border-radius: 50%;\n",
              "      cursor: pointer;\n",
              "      display: none;\n",
              "      fill: #1967D2;\n",
              "      height: 32px;\n",
              "      padding: 0 0 0 0;\n",
              "      width: 32px;\n",
              "    }\n",
              "\n",
              "    .colab-df-convert:hover {\n",
              "      background-color: #E2EBFA;\n",
              "      box-shadow: 0px 1px 2px rgba(60, 64, 67, 0.3), 0px 1px 3px 1px rgba(60, 64, 67, 0.15);\n",
              "      fill: #174EA6;\n",
              "    }\n",
              "\n",
              "    .colab-df-buttons div {\n",
              "      margin-bottom: 4px;\n",
              "    }\n",
              "\n",
              "    [theme=dark] .colab-df-convert {\n",
              "      background-color: #3B4455;\n",
              "      fill: #D2E3FC;\n",
              "    }\n",
              "\n",
              "    [theme=dark] .colab-df-convert:hover {\n",
              "      background-color: #434B5C;\n",
              "      box-shadow: 0px 1px 3px 1px rgba(0, 0, 0, 0.15);\n",
              "      filter: drop-shadow(0px 1px 2px rgba(0, 0, 0, 0.3));\n",
              "      fill: #FFFFFF;\n",
              "    }\n",
              "  </style>\n",
              "\n",
              "    <script>\n",
              "      const buttonEl =\n",
              "        document.querySelector('#df-c86a3112-02ac-432f-a0d0-62ab2d79308b button.colab-df-convert');\n",
              "      buttonEl.style.display =\n",
              "        google.colab.kernel.accessAllowed ? 'block' : 'none';\n",
              "\n",
              "      async function convertToInteractive(key) {\n",
              "        const element = document.querySelector('#df-c86a3112-02ac-432f-a0d0-62ab2d79308b');\n",
              "        const dataTable =\n",
              "          await google.colab.kernel.invokeFunction('convertToInteractive',\n",
              "                                                    [key], {});\n",
              "        if (!dataTable) return;\n",
              "\n",
              "        const docLinkHtml = 'Like what you see? Visit the ' +\n",
              "          '<a target=\"_blank\" href=https://colab.research.google.com/notebooks/data_table.ipynb>data table notebook</a>'\n",
              "          + ' to learn more about interactive tables.';\n",
              "        element.innerHTML = '';\n",
              "        dataTable['output_type'] = 'display_data';\n",
              "        await google.colab.output.renderOutput(dataTable, element);\n",
              "        const docLink = document.createElement('div');\n",
              "        docLink.innerHTML = docLinkHtml;\n",
              "        element.appendChild(docLink);\n",
              "      }\n",
              "    </script>\n",
              "  </div>\n",
              "\n",
              "\n",
              "<div id=\"df-5a8d86e4-3c1a-4d68-ade5-cb72b5138571\">\n",
              "  <button class=\"colab-df-quickchart\" onclick=\"quickchart('df-5a8d86e4-3c1a-4d68-ade5-cb72b5138571')\"\n",
              "            title=\"Suggest charts.\"\n",
              "            style=\"display:none;\">\n",
              "\n",
              "<svg xmlns=\"http://www.w3.org/2000/svg\" height=\"24px\"viewBox=\"0 0 24 24\"\n",
              "     width=\"24px\">\n",
              "    <g>\n",
              "        <path d=\"M19 3H5c-1.1 0-2 .9-2 2v14c0 1.1.9 2 2 2h14c1.1 0 2-.9 2-2V5c0-1.1-.9-2-2-2zM9 17H7v-7h2v7zm4 0h-2V7h2v10zm4 0h-2v-4h2v4z\"/>\n",
              "    </g>\n",
              "</svg>\n",
              "  </button>\n",
              "\n",
              "<style>\n",
              "  .colab-df-quickchart {\n",
              "      --bg-color: #E8F0FE;\n",
              "      --fill-color: #1967D2;\n",
              "      --hover-bg-color: #E2EBFA;\n",
              "      --hover-fill-color: #174EA6;\n",
              "      --disabled-fill-color: #AAA;\n",
              "      --disabled-bg-color: #DDD;\n",
              "  }\n",
              "\n",
              "  [theme=dark] .colab-df-quickchart {\n",
              "      --bg-color: #3B4455;\n",
              "      --fill-color: #D2E3FC;\n",
              "      --hover-bg-color: #434B5C;\n",
              "      --hover-fill-color: #FFFFFF;\n",
              "      --disabled-bg-color: #3B4455;\n",
              "      --disabled-fill-color: #666;\n",
              "  }\n",
              "\n",
              "  .colab-df-quickchart {\n",
              "    background-color: var(--bg-color);\n",
              "    border: none;\n",
              "    border-radius: 50%;\n",
              "    cursor: pointer;\n",
              "    display: none;\n",
              "    fill: var(--fill-color);\n",
              "    height: 32px;\n",
              "    padding: 0;\n",
              "    width: 32px;\n",
              "  }\n",
              "\n",
              "  .colab-df-quickchart:hover {\n",
              "    background-color: var(--hover-bg-color);\n",
              "    box-shadow: 0 1px 2px rgba(60, 64, 67, 0.3), 0 1px 3px 1px rgba(60, 64, 67, 0.15);\n",
              "    fill: var(--button-hover-fill-color);\n",
              "  }\n",
              "\n",
              "  .colab-df-quickchart-complete:disabled,\n",
              "  .colab-df-quickchart-complete:disabled:hover {\n",
              "    background-color: var(--disabled-bg-color);\n",
              "    fill: var(--disabled-fill-color);\n",
              "    box-shadow: none;\n",
              "  }\n",
              "\n",
              "  .colab-df-spinner {\n",
              "    border: 2px solid var(--fill-color);\n",
              "    border-color: transparent;\n",
              "    border-bottom-color: var(--fill-color);\n",
              "    animation:\n",
              "      spin 1s steps(1) infinite;\n",
              "  }\n",
              "\n",
              "  @keyframes spin {\n",
              "    0% {\n",
              "      border-color: transparent;\n",
              "      border-bottom-color: var(--fill-color);\n",
              "      border-left-color: var(--fill-color);\n",
              "    }\n",
              "    20% {\n",
              "      border-color: transparent;\n",
              "      border-left-color: var(--fill-color);\n",
              "      border-top-color: var(--fill-color);\n",
              "    }\n",
              "    30% {\n",
              "      border-color: transparent;\n",
              "      border-left-color: var(--fill-color);\n",
              "      border-top-color: var(--fill-color);\n",
              "      border-right-color: var(--fill-color);\n",
              "    }\n",
              "    40% {\n",
              "      border-color: transparent;\n",
              "      border-right-color: var(--fill-color);\n",
              "      border-top-color: var(--fill-color);\n",
              "    }\n",
              "    60% {\n",
              "      border-color: transparent;\n",
              "      border-right-color: var(--fill-color);\n",
              "    }\n",
              "    80% {\n",
              "      border-color: transparent;\n",
              "      border-right-color: var(--fill-color);\n",
              "      border-bottom-color: var(--fill-color);\n",
              "    }\n",
              "    90% {\n",
              "      border-color: transparent;\n",
              "      border-bottom-color: var(--fill-color);\n",
              "    }\n",
              "  }\n",
              "</style>\n",
              "\n",
              "  <script>\n",
              "    async function quickchart(key) {\n",
              "      const quickchartButtonEl =\n",
              "        document.querySelector('#' + key + ' button');\n",
              "      quickchartButtonEl.disabled = true;  // To prevent multiple clicks.\n",
              "      quickchartButtonEl.classList.add('colab-df-spinner');\n",
              "      try {\n",
              "        const charts = await google.colab.kernel.invokeFunction(\n",
              "            'suggestCharts', [key], {});\n",
              "      } catch (error) {\n",
              "        console.error('Error during call to suggestCharts:', error);\n",
              "      }\n",
              "      quickchartButtonEl.classList.remove('colab-df-spinner');\n",
              "      quickchartButtonEl.classList.add('colab-df-quickchart-complete');\n",
              "    }\n",
              "    (() => {\n",
              "      let quickchartButtonEl =\n",
              "        document.querySelector('#df-5a8d86e4-3c1a-4d68-ade5-cb72b5138571 button');\n",
              "      quickchartButtonEl.style.display =\n",
              "        google.colab.kernel.accessAllowed ? 'block' : 'none';\n",
              "    })();\n",
              "  </script>\n",
              "</div>\n",
              "    </div>\n",
              "  </div>\n"
            ]
          },
          "metadata": {},
          "execution_count": 4
        }
      ]
    },
    {
      "cell_type": "markdown",
      "source": [
        "# Quién tiene más heroes con fuerza mayor a 90, DC o Marvel?"
      ],
      "metadata": {
        "id": "9wDC1wgQXzjM"
      }
    },
    {
      "cell_type": "code",
      "source": [
        "\n",
        "conteo_dc_fuerza_mayor_90 = df[(df['Publisher'] == 'DC Comics') & (df['Strength'] > 90)].shape[0]\n",
        "\n",
        "\n",
        "conteo_marvel_fuerza_mayor_90 = df[(df['Publisher'] == 'Marvel Comics') & (df['Strength'] > 90)].shape[0]\n",
        "\n",
        "print(f\"Cantidad de héroes con fuerza mayor a 90 en DC Comics: {conteo_dc_fuerza_mayor_90}\")\n",
        "print(f\"Cantidad de héroes con fuerza mayor a 90 en Marvel Comics: {conteo_marvel_fuerza_mayor_90}\")"
      ],
      "metadata": {
        "colab": {
          "base_uri": "https://localhost:8080/"
        },
        "id": "lod4yCrThu97",
        "outputId": "a43ce9a2-f485-473b-ef0f-7a4b8fa80446"
      },
      "execution_count": 9,
      "outputs": [
        {
          "output_type": "stream",
          "name": "stdout",
          "text": [
            "Cantidad de héroes con fuerza mayor a 90 en DC Comics: 35\n",
            "Cantidad de héroes con fuerza mayor a 90 en Marvel Comics: 31\n"
          ]
        }
      ]
    },
    {
      "cell_type": "markdown",
      "source": [
        "# Basados en el IMC, cuántos heroes hay en cada categoría?\n",
        "\n",
        "| Categoría | IMC |\n",
        "|:---------:|:---:|\n",
        "|Peso inferior al normal|menor a 18.5|\n",
        "|Normal|18.5 - 24.9|\n",
        "|Peso superior al normal|25.0 – 29.9|\n",
        "|Obesidad|mayor a 30.0|"
      ],
      "metadata": {
        "id": "x2aOg_KpTkaU"
      }
    },
    {
      "cell_type": "code",
      "source": [
        "\n",
        "def calcular_imc(peso, altura):\n",
        "    altura_metros = altura / 100\n",
        "    imc = peso / (altura_metros ** 2)\n",
        "    return imc\n",
        "\n",
        "\n",
        "\n",
        "df['IMC'] = df.apply(lambda row: calcular_imc(row['Weight'], row['Height']), axis=1)\n",
        "\n",
        "\n",
        "categorias_imc = {\n",
        "    'Inferior': (0, 18.4),\n",
        "    'Normal': (18.5, 24.9),\n",
        "    'Superior': (25.0, 29.9),\n",
        "    'Obesidad': (30.0, float('inf'))\n",
        "}\n",
        "\n",
        "\n",
        "conteo_categorias = {categoria: 0 for categoria in categorias_imc}\n",
        "\n",
        "for categoria, (limite_inferior, limite_superior) in categorias_imc.items():\n",
        "    heroes_en_categoria = df[(df['IMC'] >= limite_inferior) & (df['IMC'] <= limite_superior)]\n",
        "    conteo_categorias[categoria] = len(heroes_en_categoria)\n",
        "\n",
        "\n",
        "for categoria, conteo in conteo_categorias.items():\n",
        "    print(f\"{categoria}: {conteo} héroes\")"
      ],
      "metadata": {
        "id": "WHZeVqWxVgeI",
        "colab": {
          "base_uri": "https://localhost:8080/"
        },
        "outputId": "d59978c3-8c5e-4ff6-b4cb-9267460d3905"
      },
      "execution_count": 11,
      "outputs": [
        {
          "output_type": "stream",
          "name": "stdout",
          "text": [
            "Inferior: 38 héroes\n",
            "Normal: 201 héroes\n",
            "Superior: 114 héroes\n",
            "Obesidad: 127 héroes\n"
          ]
        }
      ]
    },
    {
      "cell_type": "markdown",
      "source": [
        "# Cómo se distribuye la creación de heroes a traves del tiempo?"
      ],
      "metadata": {
        "id": "JDtpXYFjWu19"
      }
    },
    {
      "cell_type": "code",
      "source": [
        "\n",
        "df = df[df['Año_creacion'].notna()]\n",
        "\n",
        "conteo_por_año = df['Año_creacion'].value_counts().sort_index()\n",
        "\n",
        "plt.figure(figsize=(12, 6))\n",
        "plt.style.use('seaborn-darkgrid')\n",
        "\n",
        "plt.plot(conteo_por_año.index, conteo_por_año.values, marker='o', linestyle='-', color='purple', markersize=8, linewidth=2)\n",
        "\n",
        "plt.xlabel('Año de Creación', fontsize=14)\n",
        "plt.ylabel('Cantidad de Héroes Creados', fontsize=14)\n",
        "plt.title('Distribución de Héroes por Año de Creación', fontsize=16)\n",
        "plt.xticks(rotation=90)\n",
        "plt.grid(True)\n",
        "\n",
        "plt.tight_layout()\n",
        "plt.show()\n",
        "\n"
      ],
      "metadata": {
        "id": "P4mow9DaW0Ic",
        "colab": {
          "base_uri": "https://localhost:8080/",
          "height": 599
        },
        "outputId": "bafb88c9-c4e5-46e7-8a58-eb2ba3d8f9e2"
      },
      "execution_count": 15,
      "outputs": [
        {
          "output_type": "stream",
          "name": "stderr",
          "text": [
            "<ipython-input-15-bb3d5812c566>:6: MatplotlibDeprecationWarning: The seaborn styles shipped by Matplotlib are deprecated since 3.6, as they no longer correspond to the styles shipped by seaborn. However, they will remain available as 'seaborn-v0_8-<style>'. Alternatively, directly use the seaborn API instead.\n",
            "  plt.style.use('seaborn-darkgrid')\n"
          ]
        },
        {
          "output_type": "display_data",
          "data": {
            "text/plain": [
              "<Figure size 1200x600 with 1 Axes>"
            ],
            "image/png": "[encoded data removed]"
          },
          "metadata": {}
        }
      ]
    },
    {
      "cell_type": "markdown",
      "source": [
        "Escriba **5 Preguntas adicionales diferentes a las anteriores** y respondalas:"
      ],
      "metadata": {
        "id": "Mc426sx2YeV0"
      }
    },
    {
      "cell_type": "markdown",
      "source": [
        "# Pregunta 1: ¿Cuántos héroes tienen ojos de color verde y cabello negro en 'Marvel Comics'?"
      ],
      "metadata": {
        "id": "SNxhr6-SYmHt"
      }
    },
    {
      "cell_type": "code",
      "source": [
        "\n",
        "cabello_ojos = df[(df['Publisher'] == 'Marvel Comics') & (df['Eye color'] == 'Green') & (df['Hair color'] == 'Black')]\n",
        "\n",
        "\n",
        "contador_cabello_ojos = len(cabello_ojos)\n",
        "print(f'Número de héroes con ojos verdes y cabello negro en Marvel Comics: {contador_cabello_ojos}')\n",
        "\n",
        "\n",
        "nombres_cabello_ojos = cabello_ojos['Name'].tolist()\n",
        "print('Nombres de los héroes:')\n",
        "for name in nombres_cabello_ojos:\n",
        "    print(name)\n",
        "\n"
      ],
      "metadata": {
        "id": "jiAYP3pVYlMq",
        "colab": {
          "base_uri": "https://localhost:8080/"
        },
        "outputId": "4b763818-1574-4e2f-c1f4-5a912bb8b668"
      },
      "execution_count": 21,
      "outputs": [
        {
          "output_type": "stream",
          "name": "stdout",
          "text": [
            "Número de héroes con ojos verdes y cabello negro en Marvel Comics: 1\n",
            "Nombres de los héroes:\n",
            "Spider-Woman\n"
          ]
        }
      ]
    },
    {
      "cell_type": "markdown",
      "source": [
        "# Pregunta 2:  ¿Cómo se distribuyen las editoriales ('Publisher') en términos de la cantidad de héroes creados?"
      ],
      "metadata": {
        "id": "Ko-Z6ly0YpIS"
      }
    },
    {
      "cell_type": "code",
      "source": [
        "import seaborn as sns\n",
        "\n",
        "publisher_distribution = df['Publisher'].value_counts()\n",
        "plt.figure(figsize=(10, 6))\n",
        "sns.barplot(x=publisher_distribution.index, y=publisher_distribution.values, palette='viridis')\n",
        "plt.xlabel('Editorial')\n",
        "plt.ylabel('Cantidad de Héroes Creados')\n",
        "plt.title('Distribución de Héroes por Editorial')\n",
        "plt.xticks(rotation=90)\n",
        "plt.show()\n"
      ],
      "metadata": {
        "id": "4Ztr7EC6YpIT",
        "colab": {
          "base_uri": "https://localhost:8080/",
          "height": 710
        },
        "outputId": "b2023b95-601f-4d5d-ebb2-6f40b5c51bcc"
      },
      "execution_count": 27,
      "outputs": [
        {
          "output_type": "display_data",
          "data": {
            "text/plain": [
              "<Figure size 1000x600 with 1 Axes>"
            ],
            "image/png": "[encoded data removed]"
          },
          "metadata": {}
        }
      ]
    },
    {
      "cell_type": "markdown",
      "source": [
        "# Pregunta 3: ¿Cuál es la distribución de género de los héroes en el conjunto de datos?"
      ],
      "metadata": {
        "id": "KwZw0lkJYqv4"
      }
    },
    {
      "cell_type": "code",
      "source": [
        "generos = df['Gender'].value_counts()\n",
        "plt.figure(figsize=(6, 6))\n",
        "plt.pie(generos, labels=generos.index, autopct='%1.1f%%', startangle=140)\n",
        "plt.title('Distribución de Género de los Héroes')\n",
        "plt.show()"
      ],
      "metadata": {
        "id": "KD48pkujYqv4",
        "colab": {
          "base_uri": "https://localhost:8080/",
          "height": 522
        },
        "outputId": "2785aa39-1c71-417e-f5a9-3ba1695278d0"
      },
      "execution_count": 29,
      "outputs": [
        {
          "output_type": "display_data",
          "data": {
            "text/plain": [
              "<Figure size 600x600 with 1 Axes>"
            ],
            "image/png": "[encoded data removed]"
          },
          "metadata": {}
        }
      ]
    },
    {
      "cell_type": "markdown",
      "source": [
        "# Pregunta 4:  ¿Cuál es el héroe más pesado en 'DC Comics'?"
      ],
      "metadata": {
        "id": "4RUcRoSnYyep"
      }
    },
    {
      "cell_type": "code",
      "source": [
        "heaviest_dc_hero = df[(df['Publisher'] == 'DC Comics')].nlargest(1, 'Weight')[['Name', 'Weight']]\n",
        "heaviest_dc_hero"
      ],
      "metadata": {
        "id": "wOnOudgyYyeq",
        "colab": {
          "base_uri": "https://localhost:8080/",
          "height": 81
        },
        "outputId": "48a8526a-8140-4bba-ddc0-ba91f80faf6f"
      },
      "execution_count": 30,
      "outputs": [
        {
          "output_type": "execute_result",
          "data": {
            "text/plain": [
              "         Name  Weight\n",
              "548  Darkseid  817.57"
            ],
            "text/html": [
              "\n",
              "  <div id=\"df-8f39bcac-3277-41e0-95fa-0e4ded74805f\" class=\"colab-df-container\">\n",
              "    <div>\n",
              "<style scoped>\n",
              "    .dataframe tbody tr th:only-of-type {\n",
              "        vertical-align: middle;\n",
              "    }\n",
              "\n",
              "    .dataframe tbody tr th {\n",
              "        vertical-align: top;\n",
              "    }\n",
              "\n",
              "    .dataframe thead th {\n",
              "        text-align: right;\n",
              "    }\n",
              "</style>\n",
              "<table border=\"1\" class=\"dataframe\">\n",
              "  <thead>\n",
              "    <tr style=\"text-align: right;\">\n",
              "      <th></th>\n",
              "      <th>Name</th>\n",
              "      <th>Weight</th>\n",
              "    </tr>\n",
              "  </thead>\n",
              "  <tbody>\n",
              "    <tr>\n",
              "      <th>548</th>\n",
              "      <td>Darkseid</td>\n",
              "      <td>817.57</td>\n",
              "    </tr>\n",
              "  </tbody>\n",
              "</table>\n",
              "</div>\n",
              "    <div class=\"colab-df-buttons\">\n",
              "\n",
              "  <div class=\"colab-df-container\">\n",
              "    <button class=\"colab-df-convert\" onclick=\"convertToInteractive('df-8f39bcac-3277-41e0-95fa-0e4ded74805f')\"\n",
              "            title=\"Convert this dataframe to an interactive table.\"\n",
              "            style=\"display:none;\">\n",
              "\n",
              "  <svg xmlns=\"http://www.w3.org/2000/svg\" height=\"24px\" viewBox=\"0 -960 960 960\">\n",
              "    <path d=\"M120-120v-720h720v720H120Zm60-500h600v-160H180v160Zm220 220h160v-160H400v160Zm0 220h160v-160H400v160ZM180-400h160v-160H180v160Zm440 0h160v-160H620v160ZM180-180h160v-160H180v160Zm440 0h160v-160H620v160Z\"/>\n",
              "  </svg>\n",
              "    </button>\n",
              "\n",
              "  <style>\n",
              "    .colab-df-container {\n",
              "      display:flex;\n",
              "      gap: 12px;\n",
              "    }\n",
              "\n",
              "    .colab-df-convert {\n",
              "      background-color: #E8F0FE;\n",
              "      border: none;\n",
              "      border-radius: 50%;\n",
              "      cursor: pointer;\n",
              "      display: none;\n",
              "      fill: #1967D2;\n",
              "      height: 32px;\n",
              "      padding: 0 0 0 0;\n",
              "      width: 32px;\n",
              "    }\n",
              "\n",
              "    .colab-df-convert:hover {\n",
              "      background-color: #E2EBFA;\n",
              "      box-shadow: 0px 1px 2px rgba(60, 64, 67, 0.3), 0px 1px 3px 1px rgba(60, 64, 67, 0.15);\n",
              "      fill: #174EA6;\n",
              "    }\n",
              "\n",
              "    .colab-df-buttons div {\n",
              "      margin-bottom: 4px;\n",
              "    }\n",
              "\n",
              "    [theme=dark] .colab-df-convert {\n",
              "      background-color: #3B4455;\n",
              "      fill: #D2E3FC;\n",
              "    }\n",
              "\n",
              "    [theme=dark] .colab-df-convert:hover {\n",
              "      background-color: #434B5C;\n",
              "      box-shadow: 0px 1px 3px 1px rgba(0, 0, 0, 0.15);\n",
              "      filter: drop-shadow(0px 1px 2px rgba(0, 0, 0, 0.3));\n",
              "      fill: #FFFFFF;\n",
              "    }\n",
              "  </style>\n",
              "\n",
              "    <script>\n",
              "      const buttonEl =\n",
              "        document.querySelector('#df-8f39bcac-3277-41e0-95fa-0e4ded74805f button.colab-df-convert');\n",
              "      buttonEl.style.display =\n",
              "        google.colab.kernel.accessAllowed ? 'block' : 'none';\n",
              "\n",
              "      async function convertToInteractive(key) {\n",
              "        const element = document.querySelector('#df-8f39bcac-3277-41e0-95fa-0e4ded74805f');\n",
              "        const dataTable =\n",
              "          await google.colab.kernel.invokeFunction('convertToInteractive',\n",
              "                                                    [key], {});\n",
              "        if (!dataTable) return;\n",
              "\n",
              "        const docLinkHtml = 'Like what you see? Visit the ' +\n",
              "          '<a target=\"_blank\" href=https://colab.research.google.com/notebooks/data_table.ipynb>data table notebook</a>'\n",
              "          + ' to learn more about interactive tables.';\n",
              "        element.innerHTML = '';\n",
              "        dataTable['output_type'] = 'display_data';\n",
              "        await google.colab.output.renderOutput(dataTable, element);\n",
              "        const docLink = document.createElement('div');\n",
              "        docLink.innerHTML = docLinkHtml;\n",
              "        element.appendChild(docLink);\n",
              "      }\n",
              "    </script>\n",
              "  </div>\n",
              "\n",
              "    </div>\n",
              "  </div>\n"
            ]
          },
          "metadata": {},
          "execution_count": 30
        }
      ]
    },
    {
      "cell_type": "markdown",
      "source": [
        "# Pregunta 5:  ¿Cuántas heroínas tienen ojos de color azul y cabello rubio en 'Marvel Comics'?"
      ],
      "metadata": {
        "id": "UinZR_x-Yz5D"
      }
    },
    {
      "cell_type": "code",
      "source": [
        "\n",
        "heroinas_cabello_ojos = df[(df['Publisher'] == 'Marvel Comics') & (df['Gender'] == 'F') & (df['Eye color'] == 'Blue') & (df['Hair color'] == 'Blond')]\n",
        "\n",
        "\n",
        "contador_heroinas_cabello_ojos = len(heroinas_cabello_ojos)\n",
        "print(f'Número de heroínas con ojos azules y cabello rubio en Marvel Comics: {contador_heroinas_cabello_ojos}')\n",
        "\n",
        "\n",
        "nombres_heroinas_cabello_ojos = heroinas_cabello_ojos['Name'].tolist()\n",
        "print('Nombres de las heroínas:')\n",
        "for name in nombres_heroinas_cabello_ojos:\n",
        "    print(name)\n"
      ],
      "metadata": {
        "id": "lpyH4kDkYz5E",
        "colab": {
          "base_uri": "https://localhost:8080/"
        },
        "outputId": "512eae43-8d98-4eff-f8ad-d8bebe72f205"
      },
      "execution_count": 33,
      "outputs": [
        {
          "output_type": "stream",
          "name": "stdout",
          "text": [
            "Número de heroínas con ojos azules y cabello rubio en Marvel Comics: 7\n",
            "Nombres de las heroínas:\n",
            "Namorita\n",
            "Namora\n",
            "Moonstone\n",
            "Mockingbird\n",
            "Jennifer Kale\n",
            "Husk\n",
            "Dazzler\n"
          ]
        }
      ]
    }
  ]
}